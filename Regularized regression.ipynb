{
 "cells": [
  {
   "cell_type": "code",
   "execution_count": 1,
   "metadata": {},
   "outputs": [],
   "source": [
    "#Load libraries\n",
    "import pandas as pd\n",
    "import numpy as np\n",
    "import matplotlib.pyplot as plt\n",
    "\n",
    "from sklearn import linear_model\n",
    "from sklearn.datasets import load_svmlight_file\n",
    "from sklearn.metrics import mean_squared_error, r2_score\n",
    "from sklearn.model_selection import train_test_split, KFold, cross_val_predict"
   ]
  },
  {
   "cell_type": "code",
   "execution_count": 2,
   "metadata": {},
   "outputs": [],
   "source": [
    "data, target = load_svmlight_file(\"E2006.train\")"
   ]
  },
  {
   "cell_type": "markdown",
   "metadata": {},
   "source": [
    "## 1. Linear regression"
   ]
  },
  {
   "cell_type": "code",
   "execution_count": 3,
   "metadata": {},
   "outputs": [],
   "source": [
    "# Linear regression\n",
    "\n",
    "#1. model creation\n",
    "lr = linear_model.LinearRegression()\n",
    "\n",
    "#2. Model fitting\n",
    "lr.fit(data, target)\n",
    "\n",
    "#3. prediction\n",
    "data_prediction = lr.predict(data)"
   ]
  },
  {
   "cell_type": "code",
   "execution_count": 4,
   "metadata": {},
   "outputs": [
    {
     "name": "stdout",
     "output_type": "stream",
     "text": [
      "RMSE =  0.002383011268234676\n"
     ]
    }
   ],
   "source": [
    "#RMSE\n",
    "rmse_train = np.sqrt(mean_squared_error(target, data_prediction))\n",
    "\n",
    "print(\"RMSE = \", rmse_train)"
   ]
  },
  {
   "cell_type": "markdown",
   "metadata": {},
   "source": [
    "### K-Fold evaluation"
   ]
  },
  {
   "cell_type": "code",
   "execution_count": 5,
   "metadata": {},
   "outputs": [
    {
     "name": "stdout",
     "output_type": "stream",
     "text": [
      "R2 =  0.9999857951855888\n"
     ]
    }
   ],
   "source": [
    "# R2\n",
    "r2_train = r2_score(target, data_prediction)\n",
    "\n",
    "print(\"R2 = \", r2_train)"
   ]
  },
  {
   "cell_type": "code",
   "execution_count": 6,
   "metadata": {},
   "outputs": [],
   "source": [
    "#KFold object creation\n",
    "kf = KFold(n_splits = 5)\n",
    "\n",
    "#KFold prediction\n",
    "target_prediction = cross_val_predict(lr, data, target, cv = kf)"
   ]
  },
  {
   "cell_type": "code",
   "execution_count": 7,
   "metadata": {},
   "outputs": [
    {
     "name": "stdout",
     "output_type": "stream",
     "text": [
      "RMSE on 5-fold cross validation =  0.7548280032407355\n",
      "R2 =  -0.42521170109861295\n"
     ]
    }
   ],
   "source": [
    "#RMSE\n",
    "rmse_cv = np.sqrt(mean_squared_error(target_prediction, target))\n",
    "print(\"RMSE on 5-fold cross validation = \", rmse_cv)\n",
    "#R2\n",
    "r2 = r2_score(target, target_prediction)\n",
    "print(\"R2 = \", r2)"
   ]
  },
  {
   "cell_type": "markdown",
   "metadata": {},
   "source": [
    "Sometimes performing a cross validation it is not the best option, as it can overfit our model and make it worse."
   ]
  },
  {
   "cell_type": "markdown",
   "metadata": {},
   "source": [
    "## 2. ElasticNet"
   ]
  },
  {
   "cell_type": "code",
   "execution_count": 8,
   "metadata": {},
   "outputs": [],
   "source": [
    "# ElasticNet\n",
    "# 1. Model creation\n",
    "enet = linear_model.ElasticNet(alpha = 0.1)\n",
    "\n",
    "# 2. Model fitting\n",
    "enet.fit(data, target)\n",
    "\n",
    "# 3. model prediction\n",
    "enet_prediction = enet.predict(data)"
   ]
  },
  {
   "cell_type": "code",
   "execution_count": 9,
   "metadata": {},
   "outputs": [
    {
     "name": "stdout",
     "output_type": "stream",
     "text": [
      "RMSE =  0.3966554650536713\n",
      "R2 =  0.6064406300246878\n"
     ]
    }
   ],
   "source": [
    "# RMSE\n",
    "rmse_enet_train = np.sqrt(mean_squared_error(target, enet_prediction))\n",
    "print(\"RMSE = \", rmse_enet_train)\n",
    "\n",
    "# R2\n",
    "r2_enet_train = r2_score(target, enet_prediction)\n",
    "print(\"R2 = \", r2_enet_train)"
   ]
  },
  {
   "cell_type": "markdown",
   "metadata": {},
   "source": [
    "### K-Fold evaluation"
   ]
  },
  {
   "cell_type": "code",
   "execution_count": 10,
   "metadata": {},
   "outputs": [],
   "source": [
    "#usar KFold para hacer un mejor entrenamiento del modelo\n",
    "\n",
    "#KFold object creation\n",
    "kf = KFold(n_splits = 5)\n",
    "\n",
    "#KFold prediction\n",
    "e2006_target_prediction = cross_val_predict(enet, data, target, cv = kf)\n"
   ]
  },
  {
   "cell_type": "code",
   "execution_count": 11,
   "metadata": {},
   "outputs": [
    {
     "name": "stdout",
     "output_type": "stream",
     "text": [
      "RMSE on 5-fold cross validation =  0.3967420770053747\n",
      "R2 =  0.6062687394562409\n"
     ]
    }
   ],
   "source": [
    "#RMSE\n",
    "rmse_cv = np.sqrt(mean_squared_error(e2006_target_prediction, target))\n",
    "print(\"RMSE on 5-fold cross validation = \", rmse_cv)\n",
    "\n",
    "# R2\n",
    "r2_enet_train = r2_score(target, e2006_target_prediction)\n",
    "print(\"R2 = \", r2_enet_train)"
   ]
  },
  {
   "cell_type": "markdown",
   "metadata": {},
   "source": [
    "La regularización permite que nuestro modelo alcance una mayor generalización"
   ]
  },
  {
   "cell_type": "markdown",
   "metadata": {},
   "source": [
    "## 3. ElasticNet CV"
   ]
  },
  {
   "cell_type": "code",
   "execution_count": 12,
   "metadata": {},
   "outputs": [
    {
     "data": {
      "text/plain": [
       "ElasticNetCV(alphas=(0.1, 0.01, 0.005, 0.0025, 0.001), copy_X=True, cv=None,\n",
       "       eps=0.001, fit_intercept=True,\n",
       "       l1_ratio=(0.01, 0.05, 0.25, 0.5, 0.75, 0.95, 0.99), max_iter=1000,\n",
       "       n_alphas=100, n_jobs=1, normalize=True, positive=False,\n",
       "       precompute='auto', random_state=None, selection='cyclic',\n",
       "       tol=0.0001, verbose=0)"
      ]
     },
     "execution_count": 12,
     "metadata": {},
     "output_type": "execute_result"
    }
   ],
   "source": [
    "encv = linear_model.ElasticNetCV(alphas = (0.1, 0.01, 0.005, 0.0025, 0.001), \n",
    "                                 l1_ratio=(0.01, 0.05, 0.25, 0.5, 0.75, 0.95, 0.99), \n",
    "                                 normalize=True)\n",
    "\n",
    "encv.fit(data, target)"
   ]
  },
  {
   "cell_type": "code",
   "execution_count": 13,
   "metadata": {},
   "outputs": [
    {
     "data": {
      "text/plain": [
       "0.001"
      ]
     },
     "execution_count": 13,
     "metadata": {},
     "output_type": "execute_result"
    }
   ],
   "source": [
    "encv.alpha_"
   ]
  },
  {
   "cell_type": "code",
   "execution_count": 14,
   "metadata": {},
   "outputs": [
    {
     "data": {
      "text/plain": [
       "0.99"
      ]
     },
     "execution_count": 14,
     "metadata": {},
     "output_type": "execute_result"
    }
   ],
   "source": [
    "encv.l1_ratio_"
   ]
  },
  {
   "cell_type": "markdown",
   "metadata": {},
   "source": [
    "## 4. Visualization"
   ]
  },
  {
   "cell_type": "code",
   "execution_count": 20,
   "metadata": {},
   "outputs": [
    {
     "data": {
      "image/png": "[encoded data removed]",
      "text/plain": [
       "<Figure size 432x432 with 1 Axes>"
      ]
     },
     "metadata": {},
     "output_type": "display_data"
    }
   ],
   "source": [
    "#Prediction vs Actual value\n",
    "fig, ax = plt.subplots(figsize = (6,6))\n",
    "ax.scatter(target, e2006_target_prediction)\n",
    "ax.set_title(\"Prediction vs Actual fit\")\n",
    "ax.set_xlabel(\"Actual\")\n",
    "ax.set_ylabel(\"Predicted\")\n",
    "ax.plot([e2006_target_prediction.min(), e2006_target_prediction.max()], [e2006_target_prediction.min(), e2006_target_prediction.max()], \"--\", color = \"orange\")\n",
    "plt.show()"
   ]
  },
  {
   "cell_type": "code",
   "execution_count": null,
   "metadata": {},
   "outputs": [],
   "source": []
  }
 ],
 "metadata": {
  "kernelspec": {
   "display_name": "Python 3",
   "language": "python",
   "name": "python3"
  },
  "language_info": {
   "codemirror_mode": {
    "name": "ipython",
    "version": 3
   },
   "file_extension": ".py",
   "mimetype": "text/x-python",
   "name": "python",
   "nbconvert_exporter": "python",
   "pygments_lexer": "ipython3",
   "version": "3.6.5"
  }
 },
 "nbformat": 4,
 "nbformat_minor": 2
}
